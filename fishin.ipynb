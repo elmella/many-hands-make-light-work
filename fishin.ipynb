{
 "cells": [
  {
   "cell_type": "code",
   "execution_count": 1,
   "metadata": {},
   "outputs": [],
   "source": [
    "import numpy as np\n",
    "from matplotlib import pyplot as plt\n",
    "from scipy.integrate import solve_ivp, solve_bvp\n",
    "import matplotlib.animation as animation\n",
    "from matplotlib.animation import FuncAnimation\n",
    "from IPython.display import HTML\n",
    "import matplotlib.pyplot as plt"
   ]
  },
  {
   "cell_type": "code",
   "execution_count": 2,
   "metadata": {},
   "outputs": [],
   "source": [
    "def generate_fishing_grounds(n_grounds = 10, x_max = 100, y_max = 100):\n",
    "    return np.random.rand(n_grounds, 2) * np.array([x_max, y_max])"
   ]
  },
  {
   "cell_type": "code",
   "execution_count": 3,
   "metadata": {},
   "outputs": [],
   "source": [
    "def generate_ships(n_ships = 10, x_max = 100, y_max = 100):\n",
    "    return np.random.rand(n_ships, 2) * np.array([x_max, y_max])"
   ]
  },
  {
   "cell_type": "code",
   "execution_count": 4,
   "metadata": {},
   "outputs": [],
   "source": [
    "def generate_ships_at_harbor(h, n_ships = 10):\n",
    "    \"\"\"\n",
    "    Returns an n_ships x 2 array of ships at the harbor h with gaussian noise\n",
    "    \"\"\"\n",
    "    return np.array([h + np.random.normal(0, 1, 2) for _ in range(n_ships)])"
   ]
  },
  {
   "cell_type": "code",
   "execution_count": 5,
   "metadata": {},
   "outputs": [],
   "source": [
    "def calculate_ship_distance_from_grounds(ships, grounds):\n",
    "    return np.linalg.norm(ships[:, np.newaxis] - grounds, axis=2)"
   ]
  },
  {
   "cell_type": "code",
   "execution_count": 6,
   "metadata": {},
   "outputs": [],
   "source": [
    "def d_matrix(ships, grounds):\n",
    "    # Vectorized difference calculation\n",
    "    differences = grounds - ships[:, np.newaxis]\n",
    "    distances = np.linalg.norm(differences, axis=2, keepdims=True)\n",
    "    return differences / (distances + 1e-6)  # Adding small value to avoid division by zero"
   ]
  },
  {
   "cell_type": "code",
   "execution_count": 7,
   "metadata": {},
   "outputs": [],
   "source": [
    "def ship_ground_gaussians(ships, grounds, alpha):\n",
    "    distances = np.linalg.norm(ships[:, np.newaxis] - grounds, axis=2)\n",
    "    return np.exp(-alpha * distances**2)"
   ]
  },
  {
   "cell_type": "code",
   "execution_count": 8,
   "metadata": {},
   "outputs": [],
   "source": [
    "def calculate_ship_distance_from_ships(ships):\n",
    "    return np.linalg.norm(ships[:, np.newaxis] - ships, axis=2)"
   ]
  },
  {
   "cell_type": "code",
   "execution_count": 64,
   "metadata": {},
   "outputs": [],
   "source": [
    "def harbor_attraction(U, ships, h):\n",
    "    diff = h - ships\n",
    "    diff_norm = np.linalg.norm(diff, axis=1, keepdims=True)\n",
    "    return U[:, -2, np.newaxis] * (diff / (diff_norm + 1e-6))"
   ]
  },
  {
   "cell_type": "code",
   "execution_count": 10,
   "metadata": {},
   "outputs": [],
   "source": [
    "def attraction_matrix(U, G, D, F):\n",
    "    F_reshaped = F.reshape(1, -1, 1)\n",
    "    return U[:, :-2, None] * G[:, :, None] * D * F_reshaped"
   ]
  },
  {
   "cell_type": "code",
   "execution_count": 11,
   "metadata": {},
   "outputs": [],
   "source": [
    "def calculate_F_prime(t, F, C, rate):\n",
    "    C_sum = np.sum(C, axis=0)\n",
    "    return -rate * F * C_sum"
   ]
  },
  {
   "cell_type": "code",
   "execution_count": 12,
   "metadata": {},
   "outputs": [],
   "source": [
    "def calculate_S_matrix(A, H):\n",
    "    return np.sum(A, axis=1).reshape(-1, 2) + H"
   ]
  },
  {
   "cell_type": "code",
   "execution_count": 13,
   "metadata": {},
   "outputs": [],
   "source": [
    "def calculate_x_prime(U, S):\n",
    "\n",
    "    # Reshape U[:,-2] to have an extra dimension\n",
    "    U_reshaped = U[:,-1].reshape(-1, 1)\n",
    "\n",
    "    return U_reshaped * S"
   ]
  },
  {
   "cell_type": "markdown",
   "metadata": {},
   "source": [
    "Take orthogonal unit vector to s_i, r_i\n",
    "\n",
    "inner product that with p_i, take abs value\n",
    "\n",
    "find minimum of that <r_i, p_i>\n",
    "\n",
    "Penalize ||u_i,j(t-1) - u_i,j(t)||\n",
    "\n",
    "so minimize over u_ij for all i, j <r_i, p_i> + ||u_i,j(t-1) - u_i,j(t)||"
   ]
  },
  {
   "cell_type": "code",
   "execution_count": 14,
   "metadata": {},
   "outputs": [],
   "source": [
    "# LIKELY WRONG\n",
    "\n",
    "def Dxs_matrix(x, grounds, ships, G, U, F, distances, differences, alpha, h):\n",
    "    F_reshaped = F.reshape(1, -1, 1)\n",
    "    \n",
    "    # This will have shape (N, K, 1)\n",
    "    outer_scalar = (U[:, :-2, None] * G[:, :, None] * F_reshaped) / (distances + 1e-6)\n",
    "    \n",
    "    # Calculate the inner scalar term, reshaping it to (N, K, 1, 1) to broadcast with the outer product\n",
    "    inner_scalar = (alpha + 1 / (distances[..., 0]**2 + 1e-6)).reshape(*distances.shape[:2], 1, 1)\n",
    "    \n",
    "    # Compute the outer products\n",
    "    outer_products = differences[..., np.newaxis] * differences[..., np.newaxis, :]\n",
    "    \n",
    "    # Identity matrix needs to be (1, 1, 2, 2) to broadcast correctly\n",
    "    I_2 = np.eye(2).reshape((1, 1, 2, 2))\n",
    "\n",
    "    # print((inner_scalar * outer_products - I_2).shape)\n",
    "    \n",
    "    # The term_inside_summation should have shape (N, K, 2, 2)\n",
    "    term_inside_summation = outer_scalar[..., np.newaxis] * (inner_scalar * outer_products - I_2)\n",
    "    \n",
    "    # Sum over the second axis, corresponding to summing over 'j' (the grounds)\n",
    "    # This will result in shape (N, 2, 2)\n",
    "    DxS = np.sum(term_inside_summation, axis=1)\n",
    "\n",
    "    diff = h - ships\n",
    "    diff_norm = np.linalg.norm(diff, axis=1, keepdims=True) + 1e-6\n",
    "    \n",
    "    u_ratio = U[:, -2] / diff_norm.squeeze()\n",
    "\n",
    "    h_outer_products = diff[..., np.newaxis] * diff[..., np.newaxis, :]\n",
    "\n",
    "    h_inner = np.sum(diff**2, axis=1)\n",
    "\n",
    "    h_outer_products /= h_inner[:, np.newaxis, np.newaxis] + 1e-6\n",
    "\n",
    "\n",
    "    I_2 = np.eye(2).reshape((1, 2, 2))\n",
    "    \n",
    "    return DxS + ((h_outer_products - I_2) * u_ratio[:, np.newaxis, np.newaxis])\n"
   ]
  },
  {
   "cell_type": "code",
   "execution_count": 15,
   "metadata": {},
   "outputs": [],
   "source": [
    "def calculate_p_f_prime(p, S, U, D, G):\n",
    "    p_f \n",
    "    # Shape: (N, 2, 2), the outer product of S\n",
    "    S_outer = S[:, :, np.newaxis] * S[:, np.newaxis, :]\n",
    "\n",
    "    # Shape: (N, K, 2), the inner product of S with the differences\n",
    "    S_inner = np.sum(S**2, axis=1)\n",
    "\n",
    "    # Shape: (N, 2, 2)\n",
    "    S_outer /= (S_inner[:, np.newaxis, np.newaxis] + 1e-6)\n",
    "    # print(S_outer.shape)\n",
    "\n",
    "    I_2 = np.eye(2).reshape((1, 2, 2))\n",
    "\n",
    "    project_term = I_2 - S_outer"
   ]
  },
  {
   "cell_type": "code",
   "execution_count": 36,
   "metadata": {},
   "outputs": [],
   "source": [
    "def calculate_p_prime(p, S, U, Dxs, ship_differences):\n",
    "\n",
    "    # Shape: (N, 2, 2), the outer product of S\n",
    "    S_outer = S[:, :, np.newaxis] * S[:, np.newaxis, :]\n",
    "\n",
    "    # Shape: (N, K, 2), the inner product of S with the differences\n",
    "    S_inner = np.sum(S**2, axis=1)\n",
    "\n",
    "    # Shape: (N, 2, 2)\n",
    "    S_outer /= (S_inner[:, np.newaxis, np.newaxis] + 1)\n",
    "    # print(S_outer.shape)\n",
    "\n",
    "    I_2 = np.eye(2).reshape((1, 2, 2))\n",
    "\n",
    "    first_term = I_2 - S_outer\n",
    "\n",
    "    second_term = (Dxs / np.linalg.norm(S, axis=0, keepdims=True) + 1e-6)\n",
    "    # print(second_term.shape)\n",
    "\n",
    "    second_term *= U[:, -1, np.newaxis, np.newaxis]\n",
    "\n",
    "    p_scaled = p * U[:, -1][:, np.newaxis]\n",
    "\n",
    "    combined = np.matmul((first_term * second_term), p_scaled[:, :, np.newaxis]).squeeze()\n",
    "\n",
    "\n",
    "    # Sum up, skip where i == j\n",
    "    term_inside_summation = ship_differences / (np.linalg.norm(ship_differences, axis=1)**2 + 1e-6)**2\n",
    "\n",
    "    second_term = np.sum(term_inside_summation, axis=1)\n",
    "\n",
    "    return -combined - (4 * second_term)\n",
    "\n",
    "    "
   ]
  },
  {
   "cell_type": "code",
   "execution_count": 142,
   "metadata": {},
   "outputs": [],
   "source": [
    "def ode(t, y, params):\n",
    "    alpha, sigma, rate, U, grounds, h, x_size, F_size, p_size, x_shape, p_shape = params\n",
    "    x = y[:x_size].reshape(x_shape)  # reshape x back to its original shape\n",
    "    F = y[x_size:x_size+F_size]\n",
    "    # p = y[x_size + F_size:].reshape(p_shape)\n",
    "    p = np.ones_like(x) * 0.1\n",
    "\n",
    "    differences = grounds - x[:, np.newaxis]\n",
    "    distances = np.linalg.norm(differences, axis=2, keepdims=True)\n",
    "\n",
    "    ship_diffences = x[:, np.newaxis] - x\n",
    "    ship_distances = np.linalg.norm(ship_diffences, axis=2)\n",
    "\n",
    "    # Calculate D matrix\n",
    "    D = differences / (distances + 1e-6)\n",
    "\n",
    "    # Calculate G matrix\n",
    "    G = ship_ground_gaussians(x, grounds, alpha)\n",
    "\n",
    "    # Calculate Collection matrix\n",
    "    C = ship_ground_gaussians(x, grounds, sigma)\n",
    "\n",
    "    # Calculate A matrix\n",
    "    A = attraction_matrix(U, G, D, F)\n",
    "\n",
    "    # Calculate H\n",
    "    H = harbor_attraction(U, x, h)\n",
    "\n",
    "\n",
    "    S = np.sum(A, axis=1).reshape(-1, 2)\n",
    "\n",
    "    # S = S + H\n",
    "\n",
    "    S_normal = S / (np.linalg.norm(S, axis=1, keepdims=True) + 1e-6)\n",
    "\n",
    "    F_prime = calculate_F_prime(t, F, C, rate)\n",
    "\n",
    "\n",
    "    x_prime = calculate_x_prime(U, S_normal)\n",
    "    # print(np.linalg.norm(x_prime, axis=1))\n",
    "\n",
    "          \n",
    "    Dxs = Dxs_matrix(x, grounds, x, G, U, F, distances, differences, alpha, h)\n",
    "\n",
    "\n",
    "    p_prime = calculate_p_prime(p, S, U, Dxs, ship_diffences)\n",
    "\n",
    "\n",
    "    # Flatten x_prime and F_prime and concatenate them into a single 1D array\n",
    "    return np.concatenate((x_prime.flatten(), F_prime.flatten(), np.ones_like(p_prime).flatten()))"
   ]
  },
  {
   "cell_type": "code",
   "execution_count": 143,
   "metadata": {},
   "outputs": [
    {
     "data": {
      "image/png": "[encoded data removed]",
      "text/plain": [
       "<Figure size 640x480 with 1 Axes>"
      ]
     },
     "metadata": {},
     "output_type": "display_data"
    }
   ],
   "source": [
    "alpha = .001\n",
    "sigma = 1\n",
    "rate = .1\n",
    "\n",
    "x_max, y_max = 200, 200\n",
    "# \\\\\n",
    "\n",
    "# h is the harbor position\n",
    "h = np.array([x_max / 2, 0])\n",
    "\n",
    "# grounds = generate_fishing_grounds(30, x_max, y_max)\n",
    "ships = generate_ships(20)\n",
    "# ships = generate_ships_at_harbor(h, 20)\n",
    "\n",
    "# initialize U as all ones\n",
    "U = np.ones((ships.shape[0], grounds.shape[0] + 2))\n",
    "\n",
    "# initialize U with normal distribution, mean 1, std 0.1\n",
    "U = np.random.normal(1, .25, (ships.shape[0], grounds.shape[0] + 2))\n",
    "\n",
    "# set the last column of U to 0\n",
    "U[:,-2] = 0\n",
    "# U[:,-1] = 1\n",
    "\n",
    "# initialize F as all ones\n",
    "F = np.ones(grounds.shape[0])\n",
    "\n",
    "# x is ship positions\n",
    "x = ships\n",
    "\n",
    "# initialize p\n",
    "p_init = np.full((20, 2), 0.1)\n",
    "\n",
    "# Get the sizes of x and F before flattening\n",
    "x_size = np.prod(x.shape)\n",
    "F_size = np.prod(F.shape)\n",
    "p_size = np.prod(p_init.shape)\n",
    "\n",
    "# Get the original shape of x\n",
    "x_shape = x.shape\n",
    "p_shape = p_init.shape\n",
    "\n",
    "# Flatten x and F into a single 1D array\n",
    "y0 = y0 = np.concatenate((x.flatten(), F, p_init.flatten()))\n",
    "\n",
    "params = params = (alpha, sigma, rate, U, grounds, h, x_size, F_size, p_size, x_shape, p_shape)\n",
    "\n",
    "sol = solve_ivp(ode, [0, 200], y0, args=(params,), t_eval=np.linspace(0, 200, 200))\n",
    "\n",
    "\n",
    "final_F = sol.y[:,-1][x_size:x_size+F_size]\n",
    "\n",
    "\n",
    "# Extract ship positions from the solution\n",
    "ship_positions = sol.y[:x_size].reshape(x_shape + (-1,))\n",
    "\n",
    "F_normalized = (final_F / np.max(F)) * 100  # Example normalization to 100\n",
    "\n",
    "plt.scatter(grounds[:, 0], grounds[:, 1], c=F_normalized, cmap='viridis', label='Fishing grounds')\n",
    "\n",
    "# Plot the starting points of the ships\n",
    "plt.scatter(ship_positions[:, 0, 0], ship_positions[:, 1, 0], c='green', label='Starting points')\n",
    "\n",
    "# Plot the trajectory of each ship\n",
    "for i in range(ship_positions.shape[0]):\n",
    "    plt.plot(ship_positions[i, 0, :], ship_positions[i, 1, :], label=f'Ship {i+1}')\n",
    "\n",
    "plt.xlabel('X Position')\n",
    "plt.ylabel('Y Position')\n",
    "plt.title('Ship Trajectories')\n",
    "plt.show()"
   ]
  },
  {
   "cell_type": "code",
   "execution_count": null,
   "metadata": {},
   "outputs": [],
   "source": [
    "# Assuming ship_positions contains the trajectory data for each ship\n",
    "# and grounds contains the positions of fishing grounds\n",
    "\n",
    "fig, ax = plt.subplots(figsize=(10, 6))\n",
    "ax.set_xlim(0, 200)\n",
    "ax.set_ylim(0, 200)\n",
    "ax.set_xlabel('X Position')\n",
    "ax.set_ylabel('Y Position')\n",
    "ax.set_title('Ship Trajectories (Animation)')\n",
    "\n",
    "# Plot the fishing grounds and harbor for reference\n",
    "ax.scatter(grounds[:, 0], grounds[:, 1], c='red', label='Fishing Grounds')\n",
    "ax.scatter(h[0], h[1], marker='*', color='blue', s=200, label='Harbor')\n",
    "\n",
    "# Initialize lines for each ship, storing them in a list\n",
    "lines = [ax.plot([], [], marker='o', linestyle='-', color='green', linewidth=0.5)[0] for _ in range(ships.shape[0])]\n",
    "\n",
    "def init():\n",
    "    # Initialize lines\n",
    "    for line in lines:\n",
    "        line.set_data([], [])\n",
    "    return lines\n",
    "\n",
    "def animate(frame):\n",
    "    # Update each ship's position for the current frame\n",
    "    for i, line in enumerate(lines):\n",
    "        line.set_data(ship_positions[i, 0, frame], ship_positions[i, 1, frame])\n",
    "    return lines\n",
    "\n",
    "# Create the animation\n",
    "ani = FuncAnimation(fig, animate, frames=ship_positions.shape[2], init_func=init, blit=True, interval=20)\n",
    "\n",
    "plt.legend()\n",
    "plt.close(fig)  # Prevents the static plot from showing\n",
    "\n",
    "# Display the animation\n",
    "# HTML(ani.to_jshtml())\n"
   ]
  }
 ],
 "metadata": {
  "kernelspec": {
   "display_name": "Python 3",
   "language": "python",
   "name": "python3"
  },
  "language_info": {
   "codemirror_mode": {
    "name": "ipython",
    "version": 3
   },
   "file_extension": ".py",
   "mimetype": "text/x-python",
   "name": "python",
   "nbconvert_exporter": "python",
   "pygments_lexer": "ipython3",
   "version": "3.10.13"
  }
 },
 "nbformat": 4,
 "nbformat_minor": 2
}
